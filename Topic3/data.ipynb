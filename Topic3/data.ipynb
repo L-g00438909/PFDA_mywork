{
 "cells": [
  {
   "cell_type": "code",
   "execution_count": null,
   "metadata": {},
   "outputs": [],
   "source": [
    "# pandas \n",
    "\n",
    "import pandas as pd\n",
    "\n",
    "listdata=[\n",
    "    ['John', 'math', 23],\n",
    "    ['John', 'english', 25],\n",
    "    ['Mary', 'math', 22],\n",
    "    ['Mary', 'english', 21],\n",
    "    ['John', 'history', 23],\n",
    "    ['Mark', 'STEM', 25],\n",
    "    ['Mark', 'history', 24],\n",
    "    ['Mark', 'english', 22],\n",
    "    ['Mark', 'math', 21]\n",
    "      \n",
    "]\n",
    "\n",
    "df = pd.DataFrame(listdata, columns=['name', 'subject', 'score'])\n",
    "print(df)\n",
    "print(df.head(3))"
   ]
  },
  {
   "cell_type": "code",
   "execution_count": null,
   "metadata": {
    "vscode": {
     "languageId": "plaintext"
    }
   },
   "outputs": [],
   "source": []
  }
 ],
 "metadata": {
  "language_info": {
   "name": "python"
  }
 },
 "nbformat": 4,
 "nbformat_minor": 2
}
