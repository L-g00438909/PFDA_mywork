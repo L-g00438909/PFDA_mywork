{
 "cells": [
  {
   "cell_type": "markdown",
   "metadata": {},
   "source": [
    "the ```datetime``` module provides 6 main high-level interface classes.\n",
    "\n",
    "-   date: an idealised date that assumes the gregorian calender extends indefinetly into the future and past. it stores the year, month and day as attributes. \n",
    "-   time: an idealised time that assumes there are 24 x 60 x 60 =86, 400 seconds per day and no leap seconds. this object stores the hour, minute, second, microsecond and tzinfo(time zone info).\n",
    "-   datetime: a combination of a date and a time. it has all the attributes of both classes. \n",
    "-   timedelta: a duration expressing the difference between two date, time or datetime objects to microsecond resolution. \n",
    "-   tzinfo: provides timezone-related info objects. \n",
    "-   timezone: A class that implements the ```tzinfo``` abstract base class as a fixed offset from the UTC. \n",
    "\n",
    "There is also a ```calender``` module for dealing with calender functions. \n",
    "-   month and week arithmetic\n",
    "-   formatting outputs"
   ]
  },
  {
   "cell_type": "code",
   "execution_count": 1,
   "metadata": {},
   "outputs": [],
   "source": [
    "import datetime"
   ]
  },
  {
   "cell_type": "code",
   "execution_count": 2,
   "metadata": {},
   "outputs": [
    {
     "name": "stdout",
     "output_type": "stream",
     "text": [
      "['MAXYEAR', 'MINYEAR', 'UTC', '__all__', '__builtins__', '__cached__', '__doc__', '__file__', '__loader__', '__name__', '__package__', '__spec__', 'date', 'datetime', 'datetime_CAPI', 'sys', 'time', 'timedelta', 'timezone', 'tzinfo']\n"
     ]
    }
   ],
   "source": [
    "print(dir(datetime))"
   ]
  },
  {
   "cell_type": "markdown",
   "metadata": {},
   "source": [
    "### TIMES\n",
    "-   time values are represented with the time class. \n",
    "-   times have attributes for hour, min, sec and microsecond.\n",
    "-   ``` datetime.time(hour=0, minute=0, second=0, microsecond=0, tzinfo=None, *, fold=0)```\n",
    "\n",
    "look at documemtation"
   ]
  },
  {
   "cell_type": "code",
   "execution_count": 5,
   "metadata": {},
   "outputs": [
    {
     "name": "stdout",
     "output_type": "stream",
     "text": [
      "01:02:03\n"
     ]
    }
   ],
   "source": [
    "t = datetime.time(1, 2, 3)\n",
    "print(t)"
   ]
  },
  {
   "cell_type": "code",
   "execution_count": 6,
   "metadata": {},
   "outputs": [
    {
     "name": "stdout",
     "output_type": "stream",
     "text": [
      "hour: 1\n",
      "minute: 2\n",
      "second: 3\n",
      "microsecond: 0\n",
      "tzinfo: None\n"
     ]
    }
   ],
   "source": [
    "print('hour:', t.hour)\n",
    "print('minute:', t.minute)\n",
    "print('second:', t.second)\n",
    "print('microsecond:', t.microsecond)\n",
    "print('tzinfo:', t.tzinfo)"
   ]
  },
  {
   "cell_type": "markdown",
   "metadata": {},
   "source": [
    "the variable t only holds values of time, and not a date associated with the time. "
   ]
  },
  {
   "cell_type": "markdown",
   "metadata": {},
   "source": [
    "You can get the valid range of times in a single day:"
   ]
  },
  {
   "cell_type": "code",
   "execution_count": 7,
   "metadata": {},
   "outputs": [
    {
     "name": "stdout",
     "output_type": "stream",
     "text": [
      "earliest: 00:00:00\n",
      "latest: 23:59:59.999999\n",
      "resolution: 0:00:00.000001\n"
     ]
    }
   ],
   "source": [
    "print('earliest:', datetime.time.min)\n",
    "print('latest:', datetime.time.max)\n",
    "print('resolution:', datetime.time.resolution)"
   ]
  },
  {
   "cell_type": "markdown",
   "metadata": {},
   "source": [
    "Note: that the resolution for time is limited to whole microseconds. "
   ]
  },
  {
   "cell_type": "markdown",
   "metadata": {},
   "source": [
    "#### Breakout 1: \n",
    "\n",
    "Create a ```time``` object with 5 microseconds and 39 minutes. "
   ]
  },
  {
   "cell_type": "code",
   "execution_count": 8,
   "metadata": {},
   "outputs": [
    {
     "name": "stdout",
     "output_type": "stream",
     "text": [
      "23:39:05.100000\n"
     ]
    }
   ],
   "source": [
    "# create a time object with 5 microseconds and 39 minutes\n",
    "t = datetime.time(23, 39, 5, 100000)\n",
    "\n",
    "print(t)"
   ]
  },
  {
   "cell_type": "markdown",
   "metadata": {},
   "source": [
    "## Dates: \n",
    "-   calender date values are represented with the date class. \n",
    "-   A date is represented in terms of year, month and day. \n",
    "-   it is easy to create a date representing todays date using the today() class method. \n",
    "-   datetime.date(year, month, day)"
   ]
  },
  {
   "cell_type": "code",
   "execution_count": 9,
   "metadata": {},
   "outputs": [
    {
     "name": "stdout",
     "output_type": "stream",
     "text": [
      "today:\n",
      "\t 2024-12-11\n",
      "ctime:\n",
      "\t Wed Dec 11 00:00:00 2024\n",
      "year:\n",
      "\t 2024\n",
      "month:\n",
      "\t 12\n",
      "day:\n",
      "\t 11\n",
      "weekday:\n",
      "\t 2\n",
      "isoweekday:\n",
      "\t 3\n",
      "tuple:\n",
      "\t time.struct_time(tm_year=2024, tm_mon=12, tm_mday=11, tm_hour=0, tm_min=0, tm_sec=0, tm_wday=2, tm_yday=346, tm_isdst=-1)\n",
      "ordinal:\n",
      "\t 739231\n"
     ]
    }
   ],
   "source": [
    "today = datetime.date.today()\n",
    "print(f'today:\\n\\t {today}')\n",
    "print(f'ctime:\\n\\t {today.ctime()}')\n",
    "print(f'year:\\n\\t {today.year}')\n",
    "print(f'month:\\n\\t {today.month}')\n",
    "print(f'day:\\n\\t {today.day}')\n",
    "print(f'weekday:\\n\\t {today.weekday()}')\n",
    "print(f'isoweekday:\\n\\t {today.isoweekday()}')\n",
    "print(f'tuple:\\n\\t {today.timetuple()}')\n",
    "print(f'ordinal:\\n\\t {today.toordinal()}')"
   ]
  },
  {
   "cell_type": "markdown",
   "metadata": {},
   "source": [
    "these are also class methods for creating instances from integers(using propletic gregorian values which starts counting from jan 1 of the year 1)or POSIX timestamp values. \n",
    "- the following example illustrates the different types used by:    \n",
    "-       from ordinal(): return the date corresponding to the proleptic gregorian ordinal (no. of days elapsed from the date 01/jan/0001)\n",
    "-   from timestamp(): return the local date corresponding to the timestamp. "
   ]
  },
  {
   "cell_type": "code",
   "execution_count": 13,
   "metadata": {},
   "outputs": [
    {
     "name": "stdout",
     "output_type": "stream",
     "text": [
      "o=733114 and fromordinal(o)=2008-03-13\n",
      "time=1733947089.7308702 and fromtimestamp(t)=2024-12-11\n"
     ]
    }
   ],
   "source": [
    "import time\n",
    "\n",
    "o = 733114\n",
    "print(f'o={o} and fromordinal(o)={datetime.date.fromordinal(o)}')\n",
    "\n",
    "t=time.time()\n",
    "print(f'time={t} and fromtimestamp(t)={datetime.date.fromtimestamp(t)}')"
   ]
  },
  {
   "cell_type": "code",
   "execution_count": 14,
   "metadata": {},
   "outputs": [
    {
     "name": "stdout",
     "output_type": "stream",
     "text": [
      "earliest=0001-01-01\n",
      "latest=9999-12-31\n",
      "resolution=1 day, 0:00:00\n"
     ]
    }
   ],
   "source": [
    "# range of dates\n",
    "print(f'earliest={datetime.date.min}')\n",
    "print(f'latest={datetime.date.max}')\n",
    "print(f'resolution={datetime.date.resolution}')"
   ]
  },
  {
   "cell_type": "code",
   "execution_count": 15,
   "metadata": {},
   "outputs": [
    {
     "name": "stdout",
     "output_type": "stream",
     "text": [
      "d1=2015-03-11\n"
     ]
    }
   ],
   "source": [
    "# replace date \n",
    "d1 = datetime.date(2015, 3, 11)\n",
    "print(f'd1={d1}')"
   ]
  },
  {
   "cell_type": "code",
   "execution_count": 16,
   "metadata": {},
   "outputs": [
    {
     "name": "stdout",
     "output_type": "stream",
     "text": [
      "d2=2026-03-05\n"
     ]
    }
   ],
   "source": [
    "# create a date object with year 2026 and day 5\n",
    "d2 = d1.replace(year=2026, day=5)\n",
    "print(f'd2={d2}')"
   ]
  },
  {
   "cell_type": "code",
   "execution_count": 17,
   "metadata": {},
   "outputs": [
    {
     "name": "stdout",
     "output_type": "stream",
     "text": [
      "today=2024-12-11\n",
      "tdelta=7 days, 0:00:00\n"
     ]
    }
   ],
   "source": [
    "# timedeltas are differences between two dates or times \n",
    "# can be used to calculate future or past dates \n",
    "# represents a duration, not a specific moment in time\n",
    "\n",
    "today = datetime.date.today()\n",
    "print(f'today={today}')\n",
    "\n",
    "tdelta = datetime.timedelta(days=7)\n",
    "print(f'tdelta={tdelta}')"
   ]
  },
  {
   "cell_type": "code",
   "execution_count": 18,
   "metadata": {},
   "outputs": [
    {
     "name": "stdout",
     "output_type": "stream",
     "text": [
      "yesterday=2024-12-04\n",
      "tomorrow=2024-12-18\n",
      "tomorrow - yesterday=14 days, 0:00:00\n"
     ]
    }
   ],
   "source": [
    "yesterday = today - tdelta\n",
    "print(f'yesterday={yesterday}')\n",
    "\n",
    "tomorrow = today + tdelta\n",
    "print(f'tomorrow={tomorrow}')\n",
    "\n",
    "print(f'tomorrow - yesterday={tomorrow - yesterday}')"
   ]
  },
  {
   "cell_type": "code",
   "execution_count": 19,
   "metadata": {},
   "outputs": [
    {
     "name": "stdout",
     "output_type": "stream",
     "text": [
      "d=2020-01-01\n",
      "td=35 days, 0:00:00\n"
     ]
    }
   ],
   "source": [
    "# create an arbitary date object and add 5 weeks to it\n",
    "d = datetime.date(2020, 1, 1)\n",
    "print(f'd={d}')\n",
    "\n",
    "td = datetime.timedelta(weeks=5)\n",
    "print(f'td={td}')\n",
    "\n"
   ]
  },
  {
   "cell_type": "markdown",
   "metadata": {},
   "source": [
    "### timedeltas:\n",
    " -  timedeltas are differences between two dates or times. \n",
    " -  represent a duration\n",
    " -  can be used to calculate the difference between two dates or times\n",
    " -  we can use datetime to perform basic arithmetic on date values via the timedelta class.\n",
    " \n",
    " "
   ]
  },
  {
   "cell_type": "code",
   "execution_count": 20,
   "metadata": {},
   "outputs": [
    {
     "name": "stdout",
     "output_type": "stream",
     "text": [
      "microseconds=0:00:00.000001\n",
      "milliseconds=0:00:00.001000\n",
      "seconds=0:00:01\n",
      "minutes=0:01:00\n",
      "hours=1:00:00\n",
      "days=1 day, 0:00:00\n",
      "weeks=7 days, 0:00:00\n"
     ]
    }
   ],
   "source": [
    "print(f'microseconds={datetime.timedelta(microseconds=1)}')\n",
    "print(f'milliseconds={datetime.timedelta(milliseconds=1)}')\n",
    "print(f'seconds={datetime.timedelta(seconds=1)}')\n",
    "print(f'minutes={datetime.timedelta(minutes=1)}')\n",
    "print(f'hours={datetime.timedelta(hours=1)}')\n",
    "print(f'days={datetime.timedelta(days=1)}')\n",
    "print(f'weeks={datetime.timedelta(weeks=1)}')"
   ]
  },
  {
   "cell_type": "markdown",
   "metadata": {},
   "source": [
    "### Date Arithmetic:\n",
    "-   date math uses the standard arithmetic operators.\n",
    "-   the following example with date objects illustrates using timedelta objects to compute new dates, and subtracting date instances to produce timedeltas (including a negative delta value)"
   ]
  },
  {
   "cell_type": "code",
   "execution_count": 21,
   "metadata": {},
   "outputs": [
    {
     "name": "stdout",
     "output_type": "stream",
     "text": [
      "today=2024-12-11 20:32:53.854112\n"
     ]
    }
   ],
   "source": [
    "today = datetime.datetime.today()\n",
    "print(f'today={today}')"
   ]
  },
  {
   "cell_type": "code",
   "execution_count": null,
   "metadata": {},
   "outputs": [
    {
     "name": "stdout",
     "output_type": "stream",
     "text": [
      "onetimedelta day: 1 day, 0:00:00\n"
     ]
    }
   ],
   "source": [
    "one_timedelta = datetime.timedelta(days=1) # 1 day away\n",
    "print('onetimedelta day:' , one_timedelta)"
   ]
  },
  {
   "cell_type": "code",
   "execution_count": 25,
   "metadata": {},
   "outputs": [
    {
     "name": "stdout",
     "output_type": "stream",
     "text": [
      "yesterday: 2024-12-10 20:32:53.854112\n"
     ]
    }
   ],
   "source": [
    "# arithmetic operations on datetime objects\n",
    "yesterday = today - one_timedelta\n",
    "print('yesterday:', yesterday)"
   ]
  },
  {
   "cell_type": "code",
   "execution_count": 26,
   "metadata": {},
   "outputs": [
    {
     "name": "stdout",
     "output_type": "stream",
     "text": [
      "tomorrow: 2024-12-12 20:32:53.854112\n"
     ]
    }
   ],
   "source": [
    "tomorrow = today + one_timedelta\n",
    "print('tomorrow:', tomorrow)"
   ]
  },
  {
   "cell_type": "code",
   "execution_count": 27,
   "metadata": {},
   "outputs": [
    {
     "name": "stdout",
     "output_type": "stream",
     "text": [
      "tomorrow - yesterday: 2 days, 0:00:00\n"
     ]
    }
   ],
   "source": [
    "print('tomorrow - yesterday:', tomorrow - yesterday)\n"
   ]
  },
  {
   "cell_type": "code",
   "execution_count": 28,
   "metadata": {},
   "outputs": [
    {
     "name": "stdout",
     "output_type": "stream",
     "text": [
      "dt: 2020-01-01 12:30:45\n"
     ]
    }
   ],
   "source": [
    "# create an arbitary datetime object and add 5 weeks to it\n",
    "dt = datetime.datetime(2020, 1, 1, 12, 30, 45)\n",
    "print('dt:', dt)"
   ]
  },
  {
   "cell_type": "code",
   "execution_count": 29,
   "metadata": {},
   "outputs": [
    {
     "name": "stdout",
     "output_type": "stream",
     "text": [
      "td: 35 days, 0:00:00\n",
      "dt + td: 2020-02-05 12:30:45\n"
     ]
    }
   ],
   "source": [
    "# operators can be used to add or subtract time from a datetime object\n",
    "td = datetime.timedelta(weeks=5)\n",
    "print('td:', td)\n",
    "\n",
    "print('dt + td:', dt + td)\n",
    "\n",
    "# create a datetime object with the current date and time\n",
    "\n",
    "dt = datetime.datetime.now()\n"
   ]
  },
  {
   "cell_type": "code",
   "execution_count": 31,
   "metadata": {},
   "outputs": [
    {
     "name": "stdout",
     "output_type": "stream",
     "text": [
      "year: 2024\n",
      "month: 12\n",
      "day: 11\n",
      "hour: 20\n",
      "minute: 36\n",
      "second: 16\n",
      "microsecond: 723883\n",
      "tzinfo: None\n"
     ]
    }
   ],
   "source": [
    "# datetime class has year, month, day, hour, minute, second, microsecond and tzinfo attributes\n",
    "\n",
    "print('year:', dt.year)\n",
    "print('month:', dt.month)\n",
    "\n",
    "print('day:', dt.day)\n",
    "print('hour:', dt.hour)\n",
    "print('minute:', dt.minute)\n",
    "print('second:', dt.second)\n",
    "print('microsecond:', dt.microsecond)\n",
    "print('tzinfo:', dt.tzinfo)"
   ]
  },
  {
   "cell_type": "markdown",
   "metadata": {},
   "source": [
    "### combining date and times: datetime class\n",
    "\n",
    "we can use the datetime class to hold values containing both date and time components.\n",
    "-   represents all attributes from date and time objects. "
   ]
  },
  {
   "cell_type": "code",
   "execution_count": 34,
   "metadata": {},
   "outputs": [
    {
     "name": "stdout",
     "output_type": "stream",
     "text": [
      "year: 2024\n",
      "month: 12\n",
      "day: 11\n",
      "hour: 20\n",
      "minute: 43\n",
      "second: 33\n",
      "microsecond: 376138\n"
     ]
    }
   ],
   "source": [
    "d = datetime.datetime.now()\n",
    "for attr in ['year', 'month', 'day', 'hour', 'minute', 'second', 'microsecond']:\n",
    "    print(f'{attr}: {getattr(d, attr)}')"
   ]
  },
  {
   "cell_type": "code",
   "execution_count": 35,
   "metadata": {},
   "outputs": [
    {
     "name": "stdout",
     "output_type": "stream",
     "text": [
      "now: 2024-12-11 20:44:03.163583\n",
      "utcnow: 2024-12-11 20:44:03.164581\n",
      "today: 2024-12-11 20:44:03.164581\n"
     ]
    }
   ],
   "source": [
    "print(f'now: {datetime.datetime.now()}')\n",
    "print(f'utcnow: {datetime.datetime.utcnow()}')\n",
    "\n",
    "print(f'today: {datetime.datetime.today()}')"
   ]
  },
  {
   "cell_type": "code",
   "execution_count": 33,
   "metadata": {},
   "outputs": [
    {
     "name": "stdout",
     "output_type": "stream",
     "text": [
      "dt: 2020-01-01 12:30:45\n"
     ]
    }
   ],
   "source": [
    "# combining date and time objects into datetime objects\n",
    "d = datetime.date(2020, 1, 1)\n",
    "t = datetime.time(12, 30, 45)\n",
    "dt = datetime.datetime.combine(d, t)\n",
    "print('dt:', dt)"
   ]
  },
  {
   "cell_type": "code",
   "execution_count": 36,
   "metadata": {},
   "outputs": [
    {
     "name": "stdout",
     "output_type": "stream",
     "text": [
      "current date and time: 2024-12-11 20:47:19.746415\n",
      "current year: 2024\n",
      "current month: 12\n",
      "current day: 11\n",
      "current hour: 20\n",
      "current minute: 47\n",
      "current second: 19\n",
      "current microsecond: 746415\n",
      "current tzinfo: None\n",
      "earliest: 0001-01-01 00:00:00\n",
      "hh:mm:ss format= 20:47:19\n"
     ]
    }
   ],
   "source": [
    "now = datetime.datetime.now()\n",
    "print(f'current date and time: {now}')\n",
    "print(f'current year: {now.year}')\n",
    "print(f'current month: {now.month}')\n",
    "print(f'current day: {now.day}')\n",
    "print(f'current hour: {now.hour}')\n",
    "print(f'current minute: {now.minute}')\n",
    "print(f'current second: {now.second}')\n",
    "print(f'current microsecond: {now.microsecond}')\n",
    "print(f'current tzinfo: {now.tzinfo}')\n",
    "\n",
    "print(f'earliest: {datetime.datetime.min}')\n",
    "print(f'hh:mm:ss format= {now.hour}:{now.minute}:{now.second}')"
   ]
  },
  {
   "cell_type": "markdown",
   "metadata": {},
   "source": [
    "just as with date, datetime provides convenient class methods for creating new instances. it also includes fromordinal() and fromtimestamp()\n",
    "-   in addition: combine() can be useful if you already have a date instance and time instance and want to create a datetime. "
   ]
  },
  {
   "cell_type": "code",
   "execution_count": 37,
   "metadata": {},
   "outputs": [
    {
     "name": "stdout",
     "output_type": "stream",
     "text": [
      "t: 01:02:03\n",
      "d: 2024-12-11\n",
      "dt: 2024-12-11 01:02:03\n"
     ]
    }
   ],
   "source": [
    "t = datetime.time(1, 2, 3)\n",
    "print('t:', t)\n",
    "\n",
    "d = datetime.date.today()\n",
    "print('d:', d)\n",
    "\n",
    "dt = datetime.datetime.combine(d, t)\n",
    "print('dt:', dt)"
   ]
  },
  {
   "cell_type": "code",
   "execution_count": null,
   "metadata": {},
   "outputs": [],
   "source": []
  }
 ],
 "metadata": {
  "kernelspec": {
   "display_name": "base",
   "language": "python",
   "name": "python3"
  },
  "language_info": {
   "codemirror_mode": {
    "name": "ipython",
    "version": 3
   },
   "file_extension": ".py",
   "mimetype": "text/x-python",
   "name": "python",
   "nbconvert_exporter": "python",
   "pygments_lexer": "ipython3",
   "version": "3.11.7"
  }
 },
 "nbformat": 4,
 "nbformat_minor": 2
}
