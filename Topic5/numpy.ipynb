{
 "cells": [
  {
   "cell_type": "markdown",
   "metadata": {},
   "source": [
    "NUmpy high performance module for scientific computing in python. specifically it allows for fast operations on arrays of data. Numpy is far more efficient at processing data that lists, dictionaries, or tuples."
   ]
  },
  {
   "cell_type": "code",
   "execution_count": 1,
   "metadata": {},
   "outputs": [],
   "source": [
    "import numpy as np"
   ]
  },
  {
   "cell_type": "markdown",
   "metadata": {},
   "source": [
    "A numpy array is a grid of values, all of the same type and is indexed by a tuple of nonnegative integers. the number of dimensions is the rank of the array, the shape of the array is a tuple of integers giving the size of the array along each dimension. \n",
    "\n",
    "we can create a numpy array by passing a python list to np.array()."
   ]
  },
  {
   "cell_type": "code",
   "execution_count": 2,
   "metadata": {},
   "outputs": [],
   "source": [
    "a = np.array([1, 2, 3])  # Create a rank 1 array"
   ]
  },
  {
   "cell_type": "code",
   "execution_count": 3,
   "metadata": {},
   "outputs": [
    {
     "name": "stdout",
     "output_type": "stream",
     "text": [
      "<class 'numpy.ndarray'> (3, 4) [1 2 3 4] [5 6 7 8] [ 9 10 11 12]\n",
      "[[ 5  5  5  5]\n",
      " [ 5  6  7  8]\n",
      " [ 9 10 11 12]]\n"
     ]
    }
   ],
   "source": [
    "a=np.array([[1,2,3,4],[5,6,7,8], [9,10,11,12]])  # Create a rank 2 array.  This is a 3x4 array. \n",
    "print(type(a), a.shape, a[0], a[1], a[2])  \n",
    "a[0]=5               # Change an element of the array\n",
    "print(a)\n",
    "\n",
    "# set everyything in first row to 5"
   ]
  },
  {
   "cell_type": "markdown",
   "metadata": {},
   "source": [
    "can prepopulate arrays with random numbers. 2d or 3d\n"
   ]
  },
  {
   "cell_type": "markdown",
   "metadata": {},
   "source": [
    "Numpy also has two useful functions for creating sequences of numbers: arange and linspace. \n",
    "The **arange function** accepts three arguments, which define the start value, stop value of a half open interval, and step size. (The default step size, if not explicitly specified is 1; the default start value if not explicitly specified is 0. )\n",
    "\n",
    "The **linspace function** is similar but we can specify the number of values instead of the step size, and it will create a sequence of evenly spaced values. "
   ]
  },
  {
   "cell_type": "code",
   "execution_count": 4,
   "metadata": {},
   "outputs": [
    {
     "name": "stdout",
     "output_type": "stream",
     "text": [
      "[10 15 20 25 30 35 40 45]\n"
     ]
    }
   ],
   "source": [
    "f = np.arange(10,50,5 ) # Create an array of integers from 10 to 50 with increments of 5\n",
    "print(f)\n",
    "\n",
    "# note this ends on 45 not 50. does not include the top end of the interval, similar to range. "
   ]
  },
  {
   "cell_type": "code",
   "execution_count": 5,
   "metadata": {},
   "outputs": [
    {
     "name": "stdout",
     "output_type": "stream",
     "text": [
      "[0.  0.1 0.2 0.3 0.4 0.5 0.6 0.7 0.8 0.9 1. ]\n"
     ]
    }
   ],
   "source": [
    "g = np.linspace(0., 1., num=11)  # Create an array of 5 values evenly spaced between 0 and 1\n",
    "print(g)\n",
    "\n",
    "\n",
    "# handy when plotting. want linspace between 0 and 1 and want 5 values between 0 and 1."
   ]
  },
  {
   "cell_type": "markdown",
   "metadata": {},
   "source": [
    "sometimes we may want to construct an array from existing arrays by stacking the existing arrays, either vertically or horizontally. we can use **vstack()**(or row_stack) and **hstack()** (or column_stack)respectively."
   ]
  },
  {
   "cell_type": "code",
   "execution_count": 6,
   "metadata": {},
   "outputs": [
    {
     "data": {
      "text/plain": [
       "array([[1, 2, 3],\n",
       "       [4, 5, 6]])"
      ]
     },
     "execution_count": 6,
     "metadata": {},
     "output_type": "execute_result"
    }
   ],
   "source": [
    "a = np.array([1,2,3])\n",
    "b = np.array([4,5,6])\n",
    "np.vstack((a,b))  # Stack the arrays vertically\n"
   ]
  },
  {
   "cell_type": "code",
   "execution_count": 7,
   "metadata": {},
   "outputs": [
    {
     "data": {
      "text/plain": [
       "array([[7, 4],\n",
       "       [8, 5],\n",
       "       [9, 6]])"
      ]
     },
     "execution_count": 7,
     "metadata": {},
     "output_type": "execute_result"
    }
   ],
   "source": [
    "a=np.array([[7],[8],[9]])\n",
    "b=np.array([[4],[5],[6]])\n",
    "np.hstack((a,b))  # Stack the arrays horizontally"
   ]
  },
  {
   "cell_type": "markdown",
   "metadata": {},
   "source": [
    "Array Indexing: slightly different between lists and arrays. rows first in numpy arrays\n",
    "-   numpy offers several ways to index into arrays. \n",
    "-   We can index and slice numpy arrays in all the ways we can slice python lists. "
   ]
  },
  {
   "cell_type": "code",
   "execution_count": 8,
   "metadata": {},
   "outputs": [
    {
     "name": "stdout",
     "output_type": "stream",
     "text": [
      "[[2 3]\n",
      " [5 6]]\n"
     ]
    }
   ],
   "source": [
    "# create the following rank 2 array with shape (2,3)\n",
    "# [[1,2,3],\n",
    "#  [4,5,6],\n",
    "#  [7,8,9]]\n",
    "a = np.array([[1,2,3],[4,5,6],[7,8,9]])\n",
    "\n",
    "# use slicing to pull out the subarray consisting of the first 2 rows\n",
    "# and columns 1 and 2; b is the following array of shape (2,2):\n",
    "# [[2,3],\n",
    "#  [5,6]]\n",
    "b = a[:2, 1:3]\n",
    "print(b)\n",
    "\n",
    "# A slice of an array is a view into the same data, so modifying it will modify the original array.\n",
    "# slice of two on first 2 rows and columns 1 and 2."
   ]
  },
  {
   "cell_type": "markdown",
   "metadata": {},
   "source": [
    "A slice of an array is a view into the same data, so modiftying it will modify the original array. (Reference to values)"
   ]
  },
  {
   "cell_type": "code",
   "execution_count": 9,
   "metadata": {},
   "outputs": [
    {
     "name": "stdout",
     "output_type": "stream",
     "text": [
      "2\n",
      "77\n"
     ]
    }
   ],
   "source": [
    "print(a[0, 1])   # Prints \"2\" \n",
    "a[0,1 ] = 77     # Change an element of the array # b[0,0] is the same data as a[0,1]. \n",
    "print(a[0, 1])   # Prints \"77\"\n",
    "\n",
    "\n",
    "# if change something in a it will chage it in b as well."
   ]
  },
  {
   "cell_type": "markdown",
   "metadata": {},
   "source": [
    "YOu can also mix integer indexing with slice indexing. However, doing so will yield an array of lower rank than the original array. Note: This is quite different than the way that MATLAB handles array slicing:"
   ]
  },
  {
   "cell_type": "code",
   "execution_count": 10,
   "metadata": {},
   "outputs": [
    {
     "name": "stdout",
     "output_type": "stream",
     "text": [
      "[[ 1  2  3  4]\n",
      " [ 5  6  7  8]\n",
      " [ 9 10 11 12]]\n"
     ]
    }
   ],
   "source": [
    "# create the following rank 2 array with shape (3,4)\n",
    "a = np.array([[1,2,3,4], [5,6,7,8], [9,10,11,12]])\n",
    "print(a)"
   ]
  },
  {
   "cell_type": "markdown",
   "metadata": {},
   "source": [
    "2 ways of accessing the data in the middle row of the array. Mixing integer indexing slices yields an array of lower rank, while using only slices yields an array of the same rank as the original array. "
   ]
  },
  {
   "cell_type": "code",
   "execution_count": 11,
   "metadata": {},
   "outputs": [
    {
     "name": "stdout",
     "output_type": "stream",
     "text": [
      "[5 6 7 8] (4,)\n",
      "[[5 6 7 8]] (1, 4)\n",
      "[[5 6 7 8]] (1, 4)\n",
      "[ 2  6 10] (3,)\n",
      "\n",
      "[[ 2]\n",
      " [ 6]\n",
      " [10]] (3, 1)\n"
     ]
    }
   ],
   "source": [
    "# Two ways of accessing the data in the middle row of the array. \n",
    "\n",
    "rowr1 = a[1, :]    # Rank 1 view of the second row of a \n",
    "rowr2 = a[1:2, :]  # Rank 2 view of the second row of a\n",
    "rowr3 = a[[1], :]  # Rank 2 view of the second row of a\n",
    "print(rowr1, rowr1.shape)  # Prints \"[5 6 7 8] (4,)\"\n",
    "print(rowr2, rowr2.shape)  # Prints \"[[5 6 7 8]] (1, 4)\"\n",
    "print(rowr3, rowr3.shape)  # Prints \"[[5 6 7 8]] (1, 4)\"\n",
    "\n",
    "# We can make the same distinction when accessing columns of an array:\n",
    "col1 = a[:, 1]\n",
    "col2 = a[:, 1:2]\n",
    "print(col1, col1.shape)  # Prints \"[ 2  6 10] (3,)\"\n",
    "print()\n",
    "print(col2, col2.shape)  # Prints \"[[ 2]\n",
    "                         #          [ 6]\n",
    "                         #          [10]] (3, 1)\"\n"
   ]
  },
  {
   "cell_type": "markdown",
   "metadata": {},
   "source": [
    "one useful trick with integer array indexing is selecting or mutating one element from each row of a matrix. "
   ]
  },
  {
   "cell_type": "code",
   "execution_count": 12,
   "metadata": {},
   "outputs": [
    {
     "name": "stdout",
     "output_type": "stream",
     "text": [
      "[[ 1  2  3]\n",
      " [ 4  5  6]\n",
      " [ 7  8  9]\n",
      " [10 11 12]]\n"
     ]
    }
   ],
   "source": [
    "# Integer array indexing: When you index into numpy arrays using slicing, the resulting array view will always be a subarray of the original array. In contrast, integer array indexing allows you to construct arbitrary arrays using the data from another array. Here is an example:\n",
    "\n",
    "# create a new array from which we will select elements\n",
    "a = np.array([[1,2,3], [4,5,6], [7,8,9], [10,11,12]])\n",
    "print(a)"
   ]
  },
  {
   "cell_type": "code",
   "execution_count": 13,
   "metadata": {},
   "outputs": [
    {
     "name": "stdout",
     "output_type": "stream",
     "text": [
      "[ 1  6  7 11]\n"
     ]
    }
   ],
   "source": [
    "# create an array of indices\n",
    "b = np.array([0, 2, 0, 1])\n",
    "\n",
    "# select one element from each row of a using the indices in b\n",
    "print(a[np.arange(4), b])  # Prints \"[ 1  6  7 11]\""
   ]
  },
  {
   "cell_type": "code",
   "execution_count": 14,
   "metadata": {},
   "outputs": [
    {
     "name": "stdout",
     "output_type": "stream",
     "text": [
      "[[11  2  3]\n",
      " [ 4  5 16]\n",
      " [17  8  9]\n",
      " [10 21 12]]\n"
     ]
    }
   ],
   "source": [
    "# mutate one element from each row of a using the indices in b\n",
    "a[np.arange(4), b] += 10\n",
    "print(a)\n"
   ]
  },
  {
   "cell_type": "markdown",
   "metadata": {},
   "source": [
    "Boolean array indexing lets you pick out arbitary elements of an array. Frequently this type of indexing is used to select the elements of an array that satisfy some condition. "
   ]
  },
  {
   "cell_type": "code",
   "execution_count": 15,
   "metadata": {},
   "outputs": [
    {
     "name": "stdout",
     "output_type": "stream",
     "text": [
      "[[False False]\n",
      " [ True  True]\n",
      " [ True  True]]\n"
     ]
    }
   ],
   "source": [
    "import numpy as np\n",
    "\n",
    "a = np.array([[1,2], [3, 4], [5, 6]])\n",
    "\n",
    "bool_idx = (a > 2)  # Find the elements of a that are bigger than 2;\n",
    "                    # this returns a numpy array of Booleans of the same\n",
    "                    # shape as a, where each slot of bool_idx tells\n",
    "                    # whether that element of a is > 2.\n",
    "\n",
    "print(bool_idx)      # Prints \"[[False False]\n",
    "\n",
    "# take out the indices in an array that match the condition. take out the elements that are greater than 2."
   ]
  },
  {
   "cell_type": "code",
   "execution_count": 16,
   "metadata": {},
   "outputs": [
    {
     "name": "stdout",
     "output_type": "stream",
     "text": [
      "[3 4 5 6]\n",
      "[3 4 5 6]\n"
     ]
    }
   ],
   "source": [
    "# we can use boolean array indexing to construct a rank 1 array\n",
    "# consisting of the elements of a corresponding to the True values\n",
    "# of bool_idx\n",
    "print(a[bool_idx])  # Prints \"[3 4 5 6]\"\n",
    "\n",
    "# We can do all of the above in a single concise statement:\n",
    "print(a[a > 2])     # Prints \"[3 4 5 6]\"\n",
    "\n"
   ]
  },
  {
   "cell_type": "markdown",
   "metadata": {},
   "source": [
    "when working with numpy arrays, its often helpful to get the indices (not only the values) of array elements that meet certain conditions. There are a few numpy functions that youll definetly want to remember. \n",
    "-   argmax: get index of maximum element in array\n",
    "-   argmin: get index of minimum element in array \n",
    "-   argsort: get sorted list of indices, by element value, in descending order. \n",
    "-   where: get indices of elements that meet some condition. "
   ]
  },
  {
   "cell_type": "markdown",
   "metadata": {},
   "source": [
    "In a Numpy array, indices refer to the positions or locations of elements within the array. These indices allow you to access or modify specific values within the array. The indexing in Numpy follows a zero-based indexing system, meaning the first element of the array has an index of 0, the second element has an index of 1, and so on.\n",
    "-    a one-dimensional array (essentially a list), the index corresponds to the position of each element\n",
    "-   In Numpy, arrays can have more than one dimension, such as 2D arrays (matrices), 3D arrays, etc. For multi-dimensional arrays, the indices are tuples of integers, where each element of the tuple refers to the position along a specific dimension.\n"
   ]
  },
  {
   "cell_type": "markdown",
   "metadata": {},
   "source": [
    "-   Indices in a Numpy array refer to the positions of elements and allow you to access or modify specific data in the array.\n",
    "-   1D arrays use a single index for each element.\n",
    "-   Multi-dimensional arrays (2D, 3D, etc.) use tuples of indices, where each element in the tuple corresponds to a specific dimension.\n",
    "-   Slicing can be used to access a range of values.\n",
    "-   Negative indices allow counting from the end of the array.\n",
    "-   Fancy indexing allows selecting multiple elements using arrays of indices"
   ]
  },
  {
   "cell_type": "code",
   "execution_count": 17,
   "metadata": {},
   "outputs": [
    {
     "name": "stdout",
     "output_type": "stream",
     "text": [
      "2\n",
      "3\n",
      "[3 0 4 5 6 1 2 7]\n",
      "[7 2 1 6 5 4 0 3]\n",
      "[1 2 6 7]\n",
      "[2 7]\n"
     ]
    }
   ],
   "source": [
    "a= np.array([1,8,9, -3, 2, 4, 7, 9 ]) # Create a 1D array \n",
    "# get the index of the max element in a \n",
    "print(np.argmax(a))  # Prints \"2\" because the max element is 9 and it is at index 2 and 7. it doesnt print 7 because it stops at the first instance of the max element.\n",
    "\n",
    "# get the index of the min element in a\n",
    "print(np.argmin(a))  # Prints \"3\" because the min element is -3 and it is at index 3\n",
    "\n",
    "# get sorted list of indices that would sort a\n",
    "print(np.argsort(a))  # Prints \"[3 0 4 5 6 1 7 2]\" because -3 is the smallest element and it is at index 3, 1 is the next smallest element at index 0, and so on.\n",
    "\n",
    "# get sorted list of indices that would sort a in descending order\n",
    "# [::-1] reverses the list. slicing index\n",
    "print(np.argsort(a)[::-1])  # Prints \"[2 7 1 6 5 4 0 3]\" because 9 is the largest element and it is at index 2, 9 is the next largest element at index 7, and so on.\n",
    "\n",
    "# get indices of elements that meet some condition\n",
    "# this returns a tuple of arrays, one for each dimension of a. the list of indices is the first element of the tuple.\n",
    "# so we use [0] to get the list of indices.\n",
    "print(np.where(a > 5)[0])  # Prints \"[1 2 6 7]\" because 8, 9, 7, and 9 are the elements of a that are greater than 5 and they are at indices 1, 2, 6, and 7.\n",
    "\n",
    "# get indices of elements that meet some condition\n",
    "# this example shows how to get the index of all the max values in a\n",
    "print(np.where(a == np.max(a))[0])  # Prints \"[1 7]\" because 9 is the max value in a and it is at indices 1 and 7."
   ]
  },
  {
   "cell_type": "markdown",
   "metadata": {},
   "source": [
    "#### DATATYPES:\n",
    "Every numpy array is a grid of elements of the same type. Numpy provides a large set of numeric datatypes that you can use to construct arrays. Numpy tries to guess a datatype when you create an array, but functions that construct arrays usually also include an optional argyument to explicitly specify the datatype. \n",
    "\n",
    "- real python-data types"
   ]
  },
  {
   "cell_type": "code",
   "execution_count": 18,
   "metadata": {},
   "outputs": [
    {
     "name": "stdout",
     "output_type": "stream",
     "text": [
      "int32\n",
      "float64\n",
      "int64\n"
     ]
    }
   ],
   "source": [
    "x = np.array([1, 2])  # Let numpy choose the datatype\n",
    "print(x.dtype)         # Prints \"int64\"\n",
    "y= np.array([1.0, 2.0])  # Let numpy choose the datatype\n",
    "print(y.dtype)             # Prints \"float64\"\n",
    "z = np.array([1, 2], dtype=np.int64)  # Force a particular datatype\n",
    "print(z.dtype)                         # Prints \"int64\""
   ]
  },
  {
   "cell_type": "markdown",
   "metadata": {},
   "source": [
    "#### ARRAY MATH:\n",
    "What makes numpy so powerful and convenient is that it comes with many vectorised math functions for computation over elements of an array. these functions are highly optimised and are very fast-much faster than using an explicit for loop.\n",
    "-   for example: lets create a large array of random values and then sum it both ways. use a %%time cell magic to time them. "
   ]
  },
  {
   "cell_type": "code",
   "execution_count": 19,
   "metadata": {},
   "outputs": [],
   "source": [
    "a = np.random.random(1000000000) # Create a large array of random numbers \n",
    "\n",
    "\n"
   ]
  },
  {
   "cell_type": "code",
   "execution_count": 21,
   "metadata": {},
   "outputs": [
    {
     "name": "stdout",
     "output_type": "stream",
     "text": [
      "The slowest run took 4.13 times longer than the fastest. This could mean that an intermediate result is being cached.\n",
      "2.67 s ± 1.92 s per loop (mean ± std. dev. of 7 runs, 1 loop each)\n"
     ]
    }
   ],
   "source": [
    "\n",
    "%%timeit # this is a magic command that will time how long it takes to run the cell. how fast numpy is.\n",
    "x = np.sum(a)  # Sum the elements of the array\n"
   ]
  },
  {
   "cell_type": "code",
   "execution_count": 22,
   "metadata": {},
   "outputs": [
    {
     "name": "stdout",
     "output_type": "stream",
     "text": [
      "CPU times: total: 26 s\n",
      "Wall time: 2min 56s\n"
     ]
    }
   ],
   "source": [
    "%%time\n",
    "x = 0\n",
    "for element in a:\n",
    "    x = x + element"
   ]
  },
  {
   "cell_type": "code",
   "execution_count": 27,
   "metadata": {},
   "outputs": [
    {
     "name": "stdout",
     "output_type": "stream",
     "text": [
      "[[1]\n",
      " [2]\n",
      " [3]]\n"
     ]
    },
    {
     "data": {
      "text/plain": [
       "(3, 1)"
      ]
     },
     "execution_count": 27,
     "metadata": {},
     "output_type": "execute_result"
    }
   ],
   "source": [
    "w = np.array([[1], [2], [3]]) #2D array\n",
    "print(w)\n",
    "w.shape #shape of the array"
   ]
  },
  {
   "cell_type": "code",
   "execution_count": null,
   "metadata": {},
   "outputs": [
    {
     "name": "stdout",
     "output_type": "stream",
     "text": [
      "[1 2 3]\n"
     ]
    },
    {
     "data": {
      "text/plain": [
       "(3,)"
      ]
     },
     "execution_count": 26,
     "metadata": {},
     "output_type": "execute_result"
    }
   ],
   "source": [
    "y = w.reshape(-1,) # reshape to 1D array \n",
    "print(y)\n",
    "y.shape"
   ]
  },
  {
   "cell_type": "code",
   "execution_count": 28,
   "metadata": {},
   "outputs": [
    {
     "data": {
      "text/plain": [
       "array([[1],\n",
       "       [2],\n",
       "       [3]])"
      ]
     },
     "execution_count": 28,
     "metadata": {},
     "output_type": "execute_result"
    }
   ],
   "source": [
    "y.reshape((-1,1)) # reshape to 2D array\n"
   ]
  },
  {
   "cell_type": "code",
   "execution_count": 29,
   "metadata": {},
   "outputs": [
    {
     "name": "stdout",
     "output_type": "stream",
     "text": [
      "[[[1 2 3]]]\n",
      "(1, 1, 3)\n",
      "[1 2 3]\n"
     ]
    }
   ],
   "source": [
    "# squeeze function removes dimensions of size 1 from the shape of an array\n",
    "a = np.array([[[1,2,3]]])\n",
    "print(a)\n",
    "print(a.shape)\n",
    "b = np.squeeze(a)\n",
    "print(b)"
   ]
  },
  {
   "cell_type": "code",
   "execution_count": null,
   "metadata": {},
   "outputs": [
    {
     "name": "stdout",
     "output_type": "stream",
     "text": [
      "[1 2 3]\n",
      "(3,)\n"
     ]
    }
   ],
   "source": [
    "z = w.squeeze() # squeeze removes dimensions of size 1 from the shape of an array to make it a 1D array\n",
    "print(z)\n",
    "print(z.shape)"
   ]
  },
  {
   "cell_type": "code",
   "execution_count": null,
   "metadata": {},
   "outputs": [
    {
     "name": "stdout",
     "output_type": "stream",
     "text": [
      "[ 0.          0.09983342  0.19866933  0.29552021  0.38941834  0.47942554\n",
      "  0.56464247  0.64421769  0.71735609  0.78332691  0.84147098  0.89120736\n",
      "  0.93203909  0.96355819  0.98544973  0.99749499  0.9995736   0.99166481\n",
      "  0.97384763  0.94630009  0.90929743  0.86320937  0.8084964   0.74570521\n",
      "  0.67546318  0.59847214  0.51550137  0.42737988  0.33498815  0.23924933\n",
      "  0.14112001  0.04158066 -0.05837414 -0.15774569 -0.2555411  -0.35078323\n",
      " -0.44252044 -0.52983614 -0.61185789 -0.68776616 -0.7568025  -0.81827711\n",
      " -0.87157577 -0.91616594 -0.95160207 -0.97753012 -0.993691   -0.99992326\n",
      " -0.99616461 -0.98245261 -0.95892427 -0.92581468 -0.88345466 -0.83226744\n",
      " -0.77276449 -0.70554033 -0.63126664 -0.55068554 -0.46460218 -0.37387666\n",
      " -0.2794155  -0.1821625  -0.0830894   0.0168139   0.1165492   0.21511999\n",
      "  0.31154136  0.40484992  0.49411335  0.57843976  0.6569866   0.72896904\n",
      "  0.79366786  0.85043662  0.8987081   0.93799998  0.96791967  0.98816823\n",
      "  0.99854335  0.99894134  0.98935825  0.96988981  0.94073056  0.90217183\n",
      "  0.85459891  0.79848711  0.7343971   0.66296923  0.58491719  0.50102086\n",
      "  0.41211849  0.31909836  0.22288991  0.12445442  0.02477543]\n"
     ]
    },
    {
     "data": {
      "image/png": "[encoded data removed]",
      "text/plain": [
       "<Figure size 640x480 with 1 Axes>"
      ]
     },
     "metadata": {},
     "output_type": "display_data"
    }
   ],
   "source": [
    "x =np.arange(0,3*np.pi,0.1) # create an array from 0 to 3*pi in increments of 0.1\n",
    "y = np.sin(x) # create an array of sin(x) values\n",
    "print(y)\n",
    "\n",
    "import matplotlib.pyplot as plt\n",
    "plt.plot(x,y)\n",
    "plt.show()\n",
    "\n",
    "# sin function is a numpy function that takes an array of values and returns an array of sin values.\n",
    "# plot function is a matplotlib function that takes two arrays of the same length and plots one against the other."
   ]
  },
  {
   "cell_type": "code",
   "execution_count": 32,
   "metadata": {},
   "outputs": [
    {
     "data": {
      "image/png": "[encoded data removed]",
      "text/plain": [
       "<Figure size 640x480 with 1 Axes>"
      ]
     },
     "metadata": {},
     "output_type": "display_data"
    }
   ],
   "source": [
    "# can plot multiple lines on the same plot.\n",
    "y = np.sin(x)\n",
    "z = np.cos(x)\n",
    "plt.plot(x,y)\n",
    "plt.plot(x,z)\n",
    "plt.show()"
   ]
  },
  {
   "cell_type": "code",
   "execution_count": 36,
   "metadata": {},
   "outputs": [
    {
     "data": {
      "image/png": "[encoded data removed]",
      "text/plain": [
       "<Figure size 640x480 with 1 Axes>"
      ]
     },
     "metadata": {},
     "output_type": "display_data"
    }
   ],
   "source": [
    "\n",
    "x = np.random.rand(50) # create an array of 50 random values between 0 and 1\n",
    "y = np.random.rand(50) # create an array of 50 random values between 0 and 1\n",
    "colors = np.random.rand(50) # create an array of 50 random values between 0 and 1\n",
    "\n",
    "plt.scatter(x,y, c=colors) # scatter plot of x vs y with colors given by the array colors\n",
    "plt.show()"
   ]
  },
  {
   "cell_type": "code",
   "execution_count": null,
   "metadata": {},
   "outputs": [],
   "source": []
  }
 ],
 "metadata": {
  "kernelspec": {
   "display_name": "base",
   "language": "python",
   "name": "python3"
  },
  "language_info": {
   "codemirror_mode": {
    "name": "ipython",
    "version": 3
   },
   "file_extension": ".py",
   "mimetype": "text/x-python",
   "name": "python",
   "nbconvert_exporter": "python",
   "pygments_lexer": "ipython3",
   "version": "3.11.7"
  }
 },
 "nbformat": 4,
 "nbformat_minor": 2
}
